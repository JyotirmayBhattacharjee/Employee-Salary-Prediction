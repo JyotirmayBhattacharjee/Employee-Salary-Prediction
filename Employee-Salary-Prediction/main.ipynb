{
 "cells": [
  {
   "cell_type": "code",
   "execution_count": null,
   "id": "19d97911",
   "metadata": {
    "vscode": {
     "languageId": "plaintext"
    }
   },
   "outputs": [],
   "source": [
    "import pandas as pd\n",
    "\n",
    "# Load dataset\n",
    "df = pd.read_csv('/content/adult 3.csv')  # or upload your own file\n",
    "\n",
    "df.head()"
   ]
  },
  {
   "cell_type": "code",
   "execution_count": null,
   "id": "0cb0142b",
   "metadata": {
    "vscode": {
     "languageId": "plaintext"
    }
   },
   "outputs": [],
   "source": [
    "from sklearn.model_selection import train_test_split\n",
    "from sklearn.preprocessing import LabelEncoder\n",
    "\n",
    "# Replace '?' with NaN and drop such rows\n",
    "df.replace('?', pd.NA, inplace=True)\n",
    "df.dropna(inplace=True)\n",
    "\n",
    "# Drop columns with too many categories or less relevance\n",
    "df.drop(['fnlwgt', 'education', 'native-country'], axis=1, inplace=True)\n",
    "\n",
    "# Encode categorical columns\n",
    "label_encoders = {}\n",
    "categorical_cols = df.select_dtypes(include='object').columns\n",
    "\n",
    "for col in categorical_cols:\n",
    "    le = LabelEncoder()\n",
    "    df[col] = le.fit_transform(df[col])\n",
    "    label_encoders[col] = le\n",
    "\n",
    "df.head()\n"
   ]
  },
  {
   "cell_type": "code",
   "execution_count": null,
   "id": "a761f793",
   "metadata": {
    "vscode": {
     "languageId": "plaintext"
    }
   },
   "outputs": [],
   "source": [
    "X = df.drop('income', axis=1)\n",
    "y = df['income']\n",
    "\n",
    "X_train, X_test, y_train, y_test = train_test_split(X, y, test_size=0.2, random_state=42)\n"
   ]
  },
  {
   "cell_type": "code",
   "execution_count": null,
   "id": "987448eb",
   "metadata": {
    "vscode": {
     "languageId": "plaintext"
    }
   },
   "outputs": [],
   "source": [
    "from sklearn.ensemble import RandomForestClassifier\n",
    "from sklearn.metrics import classification_report\n",
    "\n",
    "model = RandomForestClassifier()\n",
    "model.fit(X_train, y_train)\n",
    "\n",
    "y_pred = model.predict(X_test)\n",
    "print(classification_report(y_test, y_pred))\n"
   ]
  },
  {
   "cell_type": "code",
   "execution_count": null,
   "id": "c1095080",
   "metadata": {
    "vscode": {
     "languageId": "plaintext"
    }
   },
   "outputs": [],
   "source": [
    "import joblib\n",
    "\n",
    "joblib.dump(model, 'salary_model.pkl')\n"
   ]
  },
  {
   "cell_type": "code",
   "execution_count": null,
   "id": "7babff8f",
   "metadata": {
    "vscode": {
     "languageId": "plaintext"
    }
   },
   "outputs": [],
   "source": [
    "import gradio as gr\n",
    "import numpy as np\n",
    "\n",
    "# Load saved model\n",
    "model = joblib.load(\"salary_model.pkl\")\n",
    "\n",
    "def predict_salary(age, education_num, marital_status, occupation, relationship, race, gender,\n",
    "                   capital_gain, capital_loss, hours_per_week, workclass):\n",
    "    # Encode categorical inputs (same label encoders used earlier)\n",
    "    input_data = pd.DataFrame([[\n",
    "        age,\n",
    "        workclass,\n",
    "        education_num,\n",
    "        marital_status,\n",
    "        occupation,\n",
    "        relationship,\n",
    "        race,\n",
    "        gender,\n",
    "        capital_gain,\n",
    "        capital_loss,\n",
    "        hours_per_week\n",
    "    ]], columns=[\n",
    "        'age', 'workclass', 'educational-num', 'marital-status',\n",
    "        'occupation', 'relationship', 'race', 'gender',\n",
    "        'capital-gain', 'capital-loss', 'hours-per-week'\n",
    "    ])\n",
    "\n",
    "    # Apply label encoding\n",
    "    for col in input_data.columns:\n",
    "        if col in label_encoders:\n",
    "            input_data[col] = label_encoders[col].transform(input_data[col])\n",
    "\n",
    "    prediction = model.predict(input_data)[0]\n",
    "    return \"Income >50K\" if prediction == 1 else \"Income <=50K\"\n"
   ]
  },
  {
   "cell_type": "code",
   "execution_count": null,
   "id": "8eb83864",
   "metadata": {
    "vscode": {
     "languageId": "plaintext"
    }
   },
   "outputs": [],
   "source": []
  },
  {
   "cell_type": "code",
   "execution_count": null,
   "id": "01ab7e47",
   "metadata": {
    "vscode": {
     "languageId": "plaintext"
    }
   },
   "outputs": [],
   "source": []
  }
 ],
 "metadata": {
  "language_info": {
   "name": "python"
  }
 },
 "nbformat": 4,
 "nbformat_minor": 5
}
